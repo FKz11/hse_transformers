{
  "cells": [
    {
      "cell_type": "markdown",
      "source": [
        "**Автор: Сергеев Константин Олегович (ММОВС23)**"
      ],
      "metadata": {
        "id": "dG4N3uuMkLfT"
      },
      "id": "dG4N3uuMkLfT"
    },
    {
      "cell_type": "markdown",
      "id": "7f741738",
      "metadata": {
        "id": "7f741738"
      },
      "source": [
        "# Poetry Ranker"
      ]
    },
    {
      "cell_type": "markdown",
      "id": "3e013b84",
      "metadata": {
        "id": "3e013b84"
      },
      "source": [
        "## Загрузка данных - дамп chitalnya.ru"
      ]
    },
    {
      "cell_type": "code",
      "execution_count": null,
      "id": "f5d92be5",
      "metadata": {
        "id": "f5d92be5"
      },
      "outputs": [],
      "source": [
        "import json\n",
        "import pandas as pd"
      ]
    },
    {
      "cell_type": "code",
      "execution_count": null,
      "id": "8a1035a5",
      "metadata": {
        "colab": {
          "base_uri": "https://localhost:8080/",
          "height": 458
        },
        "id": "8a1035a5",
        "outputId": "1d90d893-09b7-4a98-f4fb-0fbc2e140635"
      },
      "outputs": [
        {
          "name": "stdout",
          "output_type": "stream",
          "text": [
            "Размер train:  (138396, 5)\n",
            "Размер test:  (34599, 5)\n"
          ]
        },
        {
          "data": {
            "text/html": [
              "<div>\n",
              "<style scoped>\n",
              "    .dataframe tbody tr th:only-of-type {\n",
              "        vertical-align: middle;\n",
              "    }\n",
              "\n",
              "    .dataframe tbody tr th {\n",
              "        vertical-align: top;\n",
              "    }\n",
              "\n",
              "    .dataframe thead th {\n",
              "        text-align: right;\n",
              "    }\n",
              "</style>\n",
              "<table border=\"1\" class=\"dataframe\">\n",
              "  <thead>\n",
              "    <tr style=\"text-align: right;\">\n",
              "      <th></th>\n",
              "      <th>url</th>\n",
              "      <th>rating</th>\n",
              "      <th>views</th>\n",
              "      <th>output_text</th>\n",
              "      <th>genre</th>\n",
              "    </tr>\n",
              "  </thead>\n",
              "  <tbody>\n",
              "    <tr>\n",
              "      <th>0</th>\n",
              "      <td>https://www.chitalnya.ru/work/3180020/</td>\n",
              "      <td>29</td>\n",
              "      <td>33</td>\n",
              "      <td>Люблю ли осень? Ты спроси у ели -\\nОна в колюч...</td>\n",
              "      <td>лирика</td>\n",
              "    </tr>\n",
              "    <tr>\n",
              "      <th>1</th>\n",
              "      <td>https://www.chitalnya.ru/work/2496512/</td>\n",
              "      <td>0</td>\n",
              "      <td>29</td>\n",
              "      <td>Подруга - злая похмелюга\\nУжасно вредная порой...</td>\n",
              "      <td>юмор</td>\n",
              "    </tr>\n",
              "    <tr>\n",
              "      <th>2</th>\n",
              "      <td>https://www.chitalnya.ru/work/2300891/</td>\n",
              "      <td>73</td>\n",
              "      <td>110</td>\n",
              "      <td>На качелях настроенья\\nМы сегодня улетели\\nВ р...</td>\n",
              "      <td>лирика</td>\n",
              "    </tr>\n",
              "    <tr>\n",
              "      <th>3</th>\n",
              "      <td>https://www.chitalnya.ru/work/3109869/</td>\n",
              "      <td>44</td>\n",
              "      <td>67</td>\n",
              "      <td>Знаешь, Света, с тобой мне просто:\\nУ тебя жив...</td>\n",
              "      <td>лирика</td>\n",
              "    </tr>\n",
              "    <tr>\n",
              "      <th>4</th>\n",
              "      <td>https://www.chitalnya.ru/work/3382840/</td>\n",
              "      <td>0</td>\n",
              "      <td>12</td>\n",
              "      <td>Клянемся, будем помнить погибших мы всегда,\\nИ...</td>\n",
              "      <td>лирика</td>\n",
              "    </tr>\n",
              "    <tr>\n",
              "      <th>...</th>\n",
              "      <td>...</td>\n",
              "      <td>...</td>\n",
              "      <td>...</td>\n",
              "      <td>...</td>\n",
              "      <td>...</td>\n",
              "    </tr>\n",
              "    <tr>\n",
              "      <th>138391</th>\n",
              "      <td>https://www.chitalnya.ru/work/1153818/</td>\n",
              "      <td>0</td>\n",
              "      <td>136</td>\n",
              "      <td>Как трудно мне определиться -\\nЧервяк я в жизн...</td>\n",
              "      <td>юмор</td>\n",
              "    </tr>\n",
              "    <tr>\n",
              "      <th>138392</th>\n",
              "      <td>https://www.chitalnya.ru/work/2873976/</td>\n",
              "      <td>74</td>\n",
              "      <td>84</td>\n",
              "      <td>Осенний дождь... Холодный. Хмурый.\\nСтучит, ст...</td>\n",
              "      <td>лирика</td>\n",
              "    </tr>\n",
              "    <tr>\n",
              "      <th>138393</th>\n",
              "      <td>https://www.chitalnya.ru/work/3140150/</td>\n",
              "      <td>0</td>\n",
              "      <td>10</td>\n",
              "      <td>Ничто не проходит бесследно и даром\\nНичто, ни...</td>\n",
              "      <td>лирика</td>\n",
              "    </tr>\n",
              "    <tr>\n",
              "      <th>138394</th>\n",
              "      <td>https://www.chitalnya.ru/work/2433508/</td>\n",
              "      <td>30</td>\n",
              "      <td>88</td>\n",
              "      <td>Я предам тебя сейчас,\\nКину в радости и в горе...</td>\n",
              "      <td>лирика</td>\n",
              "    </tr>\n",
              "    <tr>\n",
              "      <th>138395</th>\n",
              "      <td>https://www.chitalnya.ru/work/2975796/</td>\n",
              "      <td>2</td>\n",
              "      <td>446</td>\n",
              "      <td>Чем безнадежнее и строже\\nГода разъединяют нас...</td>\n",
              "      <td>лирика</td>\n",
              "    </tr>\n",
              "  </tbody>\n",
              "</table>\n",
              "<p>138396 rows × 5 columns</p>\n",
              "</div>"
            ],
            "text/plain": [
              "                                           url rating  views  \\\n",
              "0       https://www.chitalnya.ru/work/3180020/     29     33   \n",
              "1       https://www.chitalnya.ru/work/2496512/      0     29   \n",
              "2       https://www.chitalnya.ru/work/2300891/     73    110   \n",
              "3       https://www.chitalnya.ru/work/3109869/     44     67   \n",
              "4       https://www.chitalnya.ru/work/3382840/      0     12   \n",
              "...                                        ...    ...    ...   \n",
              "138391  https://www.chitalnya.ru/work/1153818/      0    136   \n",
              "138392  https://www.chitalnya.ru/work/2873976/     74     84   \n",
              "138393  https://www.chitalnya.ru/work/3140150/      0     10   \n",
              "138394  https://www.chitalnya.ru/work/2433508/     30     88   \n",
              "138395  https://www.chitalnya.ru/work/2975796/      2    446   \n",
              "\n",
              "                                              output_text   genre  \n",
              "0       Люблю ли осень? Ты спроси у ели -\\nОна в колюч...  лирика  \n",
              "1       Подруга - злая похмелюга\\nУжасно вредная порой...    юмор  \n",
              "2       На качелях настроенья\\nМы сегодня улетели\\nВ р...  лирика  \n",
              "3       Знаешь, Света, с тобой мне просто:\\nУ тебя жив...  лирика  \n",
              "4       Клянемся, будем помнить погибших мы всегда,\\nИ...  лирика  \n",
              "...                                                   ...     ...  \n",
              "138391  Как трудно мне определиться -\\nЧервяк я в жизн...    юмор  \n",
              "138392  Осенний дождь... Холодный. Хмурый.\\nСтучит, ст...  лирика  \n",
              "138393  Ничто не проходит бесследно и даром\\nНичто, ни...  лирика  \n",
              "138394  Я предам тебя сейчас,\\nКину в радости и в горе...  лирика  \n",
              "138395  Чем безнадежнее и строже\\nГода разъединяют нас...  лирика  \n",
              "\n",
              "[138396 rows x 5 columns]"
            ]
          },
          "execution_count": 25,
          "metadata": {},
          "output_type": "execute_result"
        }
      ],
      "source": [
        "with open('poetry_data_train.json', 'r', encoding='utf-8') as f:\n",
        "    data_train = json.load(f)\n",
        "\n",
        "with open('poetry_data_test.json', 'r', encoding='utf-8') as f:\n",
        "    data_test = json.load(f)\n",
        "\n",
        "df_train = pd.DataFrame(data_train)\n",
        "df_test = pd.DataFrame(data_test)\n",
        "print('Размер train: ', df_train.shape)\n",
        "print('Размер test: ', df_test.shape)\n",
        "df_train"
      ]
    },
    {
      "cell_type": "markdown",
      "id": "3e6f3dba",
      "metadata": {
        "id": "3e6f3dba"
      },
      "source": [
        "## EDA"
      ]
    },
    {
      "cell_type": "code",
      "execution_count": null,
      "id": "f6b88003",
      "metadata": {
        "id": "f6b88003"
      },
      "outputs": [],
      "source": [
        "import matplotlib.pyplot as plt\n",
        "from sklearn.model_selection import train_test_split"
      ]
    },
    {
      "cell_type": "markdown",
      "id": "314dd57d",
      "metadata": {
        "id": "314dd57d"
      },
      "source": [
        "### Пропуски"
      ]
    },
    {
      "cell_type": "code",
      "execution_count": null,
      "id": "0c28757a",
      "metadata": {
        "colab": {
          "base_uri": "https://localhost:8080/",
          "height": 258
        },
        "id": "0c28757a",
        "outputId": "6f4c17ff-232d-4226-9e89-79acdb04ccd3"
      },
      "outputs": [
        {
          "name": "stdout",
          "output_type": "stream",
          "text": [
            "train\n"
          ]
        },
        {
          "data": {
            "text/plain": [
              "url            0\n",
              "rating         0\n",
              "views          0\n",
              "output_text    0\n",
              "genre          0\n",
              "dtype: int64"
            ]
          },
          "execution_count": 27,
          "metadata": {},
          "output_type": "execute_result"
        }
      ],
      "source": [
        "print('train')\n",
        "df_train.isna().sum()"
      ]
    },
    {
      "cell_type": "code",
      "execution_count": null,
      "id": "ba2c7f08",
      "metadata": {
        "colab": {
          "base_uri": "https://localhost:8080/",
          "height": 258
        },
        "id": "ba2c7f08",
        "outputId": "70fbcda1-ac1e-41c4-a43f-887e7d20bbdf"
      },
      "outputs": [
        {
          "name": "stdout",
          "output_type": "stream",
          "text": [
            "test\n"
          ]
        },
        {
          "data": {
            "text/plain": [
              "url            0\n",
              "rating         0\n",
              "views          0\n",
              "output_text    0\n",
              "genre          0\n",
              "dtype: int64"
            ]
          },
          "execution_count": 28,
          "metadata": {},
          "output_type": "execute_result"
        }
      ],
      "source": [
        "print('test')\n",
        "df_test.isna().sum()"
      ]
    },
    {
      "cell_type": "markdown",
      "id": "36fa1ef3",
      "metadata": {
        "id": "36fa1ef3"
      },
      "source": [
        "***Пропусков нету***"
      ]
    },
    {
      "cell_type": "markdown",
      "id": "e1e58aea",
      "metadata": {
        "id": "e1e58aea"
      },
      "source": [
        "### Типы данных"
      ]
    },
    {
      "cell_type": "code",
      "execution_count": null,
      "id": "0a61884f",
      "metadata": {
        "colab": {
          "base_uri": "https://localhost:8080/",
          "height": 258
        },
        "id": "0a61884f",
        "outputId": "8da1b17a-b588-4a21-fb40-3538d2b7482a"
      },
      "outputs": [
        {
          "name": "stdout",
          "output_type": "stream",
          "text": [
            "train\n"
          ]
        },
        {
          "data": {
            "text/plain": [
              "url            object\n",
              "rating         object\n",
              "views           int64\n",
              "output_text    object\n",
              "genre          object\n",
              "dtype: object"
            ]
          },
          "execution_count": 29,
          "metadata": {},
          "output_type": "execute_result"
        }
      ],
      "source": [
        "print('train')\n",
        "df_train.dtypes"
      ]
    },
    {
      "cell_type": "code",
      "execution_count": null,
      "id": "e3175a8d",
      "metadata": {
        "colab": {
          "base_uri": "https://localhost:8080/",
          "height": 258
        },
        "id": "e3175a8d",
        "outputId": "f762fd9a-3ec8-49b5-da47-f8da7f3e0b94"
      },
      "outputs": [
        {
          "name": "stdout",
          "output_type": "stream",
          "text": [
            "test\n"
          ]
        },
        {
          "data": {
            "text/plain": [
              "url            object\n",
              "rating         object\n",
              "views           int64\n",
              "output_text    object\n",
              "genre          object\n",
              "dtype: object"
            ]
          },
          "execution_count": 30,
          "metadata": {},
          "output_type": "execute_result"
        }
      ],
      "source": [
        "print('test')\n",
        "df_test.dtypes"
      ]
    },
    {
      "cell_type": "markdown",
      "id": "bbd28cbb",
      "metadata": {
        "id": "bbd28cbb"
      },
      "source": [
        "***Приводим rating к int***"
      ]
    },
    {
      "cell_type": "code",
      "execution_count": null,
      "id": "6e0ee4f1",
      "metadata": {
        "id": "6e0ee4f1"
      },
      "outputs": [],
      "source": [
        "df_train['rating'] = df_train['rating'].astype(int)\n",
        "df_test['rating'] = df_test['rating'].astype(int)"
      ]
    },
    {
      "cell_type": "markdown",
      "id": "aa05ba79",
      "metadata": {
        "id": "aa05ba79"
      },
      "source": [
        "### URL"
      ]
    },
    {
      "cell_type": "code",
      "execution_count": null,
      "id": "0992690c",
      "metadata": {
        "colab": {
          "base_uri": "https://localhost:8080/",
          "height": 507
        },
        "id": "0992690c",
        "outputId": "905c2a66-ce10-4c06-e51d-d2272dfc5202"
      },
      "outputs": [
        {
          "name": "stdout",
          "output_type": "stream",
          "text": [
            "train\n"
          ]
        },
        {
          "data": {
            "text/plain": [
              "https://www.chitalnya.ru/work/3180020/    1\n",
              "https://www.chitalnya.ru/work/3676977/    1\n",
              "https://www.chitalnya.ru/work/3754419/    1\n",
              "https://www.chitalnya.ru/work/1143146/    1\n",
              "https://www.chitalnya.ru/work/3165913/    1\n",
              "                                         ..\n",
              "https://www.chitalnya.ru/work/2829791/    1\n",
              "https://www.chitalnya.ru/work/2265048/    1\n",
              "https://www.chitalnya.ru/work/1622193/    1\n",
              "https://www.chitalnya.ru/work/601104/     1\n",
              "https://www.chitalnya.ru/work/2975796/    1\n",
              "Name: url, Length: 138396, dtype: int64"
            ]
          },
          "execution_count": 32,
          "metadata": {},
          "output_type": "execute_result"
        }
      ],
      "source": [
        "print('train')\n",
        "df_train.url.value_counts()"
      ]
    },
    {
      "cell_type": "code",
      "execution_count": null,
      "id": "e7acc6b2",
      "metadata": {
        "colab": {
          "base_uri": "https://localhost:8080/",
          "height": 507
        },
        "id": "e7acc6b2",
        "outputId": "d7fc9076-7573-49c7-d97f-eab001be8c4c"
      },
      "outputs": [
        {
          "name": "stdout",
          "output_type": "stream",
          "text": [
            "test\n"
          ]
        },
        {
          "data": {
            "text/plain": [
              "https://www.chitalnya.ru/work/2999707/    1\n",
              "https://www.chitalnya.ru/work/1864452/    1\n",
              "https://www.chitalnya.ru/work/123139/     1\n",
              "https://www.chitalnya.ru/work/3314718/    1\n",
              "https://www.chitalnya.ru/work/3050632/    1\n",
              "                                         ..\n",
              "https://www.chitalnya.ru/work/2277916/    1\n",
              "https://www.chitalnya.ru/work/387421/     1\n",
              "https://www.chitalnya.ru/work/2951723/    1\n",
              "https://www.chitalnya.ru/work/2293819/    1\n",
              "https://www.chitalnya.ru/work/886981/     1\n",
              "Name: url, Length: 34599, dtype: int64"
            ]
          },
          "execution_count": 33,
          "metadata": {},
          "output_type": "execute_result"
        }
      ],
      "source": [
        "print('test')\n",
        "df_test.url.value_counts()"
      ]
    },
    {
      "cell_type": "markdown",
      "id": "3c4472fc",
      "metadata": {
        "id": "3c4472fc"
      },
      "source": [
        "***Дублей нету***"
      ]
    },
    {
      "cell_type": "markdown",
      "id": "e66ef9e3",
      "metadata": {
        "id": "e66ef9e3"
      },
      "source": [
        "### Rating - целевая переменная"
      ]
    },
    {
      "cell_type": "code",
      "execution_count": null,
      "id": "8311a7b8",
      "metadata": {
        "colab": {
          "base_uri": "https://localhost:8080/",
          "height": 577
        },
        "id": "8311a7b8",
        "outputId": "97a5008e-9a5c-41ee-c290-ea9ae9b229ba"
      },
      "outputs": [
        {
          "name": "stdout",
          "output_type": "stream",
          "text": [
            "train\n",
            "min:  0\n",
            "mean:  11.92026503656175\n",
            "max:  851\n",
            "median:  0.0\n"
          ]
        },
        {
          "data": {
            "text/plain": [
              "0      77985\n",
              "7       9315\n",
              "2       7425\n",
              "1       5090\n",
              "9       2771\n",
              "       ...  \n",
              "318        1\n",
              "398        1\n",
              "334        1\n",
              "386        1\n",
              "851        1\n",
              "Name: rating, Length: 440, dtype: int64"
            ]
          },
          "execution_count": 34,
          "metadata": {},
          "output_type": "execute_result"
        }
      ],
      "source": [
        "print('train')\n",
        "print('min: ', df_train.rating.min())\n",
        "print('mean: ', df_train.rating.mean())\n",
        "print('max: ', df_train.rating.max())\n",
        "print('median: ', df_train.rating.median())\n",
        "df_train.rating.value_counts()"
      ]
    },
    {
      "cell_type": "code",
      "execution_count": null,
      "id": "d1fcf020",
      "metadata": {
        "colab": {
          "base_uri": "https://localhost:8080/",
          "height": 577
        },
        "id": "d1fcf020",
        "outputId": "8d6d0c0c-f26b-416a-e540-ce9a1b5699d6"
      },
      "outputs": [
        {
          "name": "stdout",
          "output_type": "stream",
          "text": [
            "test\n",
            "min:  0\n",
            "mean:  12.109309517616117\n",
            "max:  1145\n",
            "median:  0.0\n"
          ]
        },
        {
          "data": {
            "text/plain": [
              "0      19373\n",
              "7       2318\n",
              "2       1903\n",
              "1       1269\n",
              "9        727\n",
              "       ...  \n",
              "342        1\n",
              "205        1\n",
              "360        1\n",
              "471        1\n",
              "457        1\n",
              "Name: rating, Length: 326, dtype: int64"
            ]
          },
          "execution_count": 35,
          "metadata": {},
          "output_type": "execute_result"
        }
      ],
      "source": [
        "print('test')\n",
        "print('min: ', df_test.rating.min())\n",
        "print('mean: ', df_test.rating.mean())\n",
        "print('max: ', df_test.rating.max())\n",
        "print('median: ', df_test.rating.median())\n",
        "df_test.rating.value_counts()"
      ]
    },
    {
      "cell_type": "code",
      "execution_count": null,
      "id": "be401c03",
      "metadata": {
        "colab": {
          "base_uri": "https://localhost:8080/",
          "height": 564
        },
        "id": "be401c03",
        "outputId": "dd78d6a1-30d9-4f05-963a-b85dc017cbc6"
      },
      "outputs": [
        {
          "data": {
            "image/png": "[encoded data removed]",
            "text/plain": [
              "<Figure size 1000x600 with 1 Axes>"
            ]
          },
          "metadata": {},
          "output_type": "display_data"
        }
      ],
      "source": [
        "plt.figure(figsize=(10, 6))\n",
        "plt.hist(df_train['rating'], bins=100, label='train', alpha=0.5)\n",
        "plt.hist(df_test['rating'], bins=100, label='test', alpha=0.7)\n",
        "plt.title('Rating')\n",
        "plt.xlabel('Rating')\n",
        "plt.ylabel('Count')\n",
        "plt.yscale('log')\n",
        "plt.legend()\n",
        "plt.grid(axis='y', linestyle='--', alpha=0.7)\n",
        "plt.show()"
      ]
    },
    {
      "cell_type": "markdown",
      "id": "66cbe70b",
      "metadata": {
        "id": "66cbe70b"
      },
      "source": [
        "### Views"
      ]
    },
    {
      "cell_type": "code",
      "execution_count": null,
      "id": "345f3370",
      "metadata": {
        "colab": {
          "base_uri": "https://localhost:8080/",
          "height": 577
        },
        "id": "345f3370",
        "outputId": "e4a7f004-fbf8-48a4-c2f6-e9954c30c56a"
      },
      "outputs": [
        {
          "name": "stdout",
          "output_type": "stream",
          "text": [
            "train\n",
            "min:  10\n",
            "mean:  132.44228879447382\n",
            "max:  76680\n",
            "median:  51.0\n"
          ]
        },
        {
          "data": {
            "text/plain": [
              "11      3427\n",
              "10      3345\n",
              "12      3264\n",
              "13      3122\n",
              "14      2895\n",
              "        ... \n",
              "2220       1\n",
              "1816       1\n",
              "2911       1\n",
              "3184       1\n",
              "3459       1\n",
              "Name: views, Length: 2134, dtype: int64"
            ]
          },
          "execution_count": 37,
          "metadata": {},
          "output_type": "execute_result"
        }
      ],
      "source": [
        "print('train')\n",
        "print('min: ', df_train.views.min())\n",
        "print('mean: ', df_train.views.mean())\n",
        "print('max: ', df_train.views.max())\n",
        "print('median: ', df_train.views.median())\n",
        "df_train.views.value_counts()"
      ]
    },
    {
      "cell_type": "code",
      "execution_count": null,
      "id": "8550b499",
      "metadata": {
        "colab": {
          "base_uri": "https://localhost:8080/",
          "height": 577
        },
        "id": "8550b499",
        "outputId": "46b87fec-f261-4660-e29d-d680b59e3d57"
      },
      "outputs": [
        {
          "name": "stdout",
          "output_type": "stream",
          "text": [
            "test\n",
            "min:  10\n",
            "mean:  130.92572039654326\n",
            "max:  23568\n",
            "median:  51.0\n"
          ]
        },
        {
          "data": {
            "text/plain": [
              "11      852\n",
              "12      836\n",
              "10      823\n",
              "13      795\n",
              "14      756\n",
              "       ... \n",
              "3483      1\n",
              "2812      1\n",
              "5693      1\n",
              "648       1\n",
              "2784      1\n",
              "Name: views, Length: 1240, dtype: int64"
            ]
          },
          "execution_count": 38,
          "metadata": {},
          "output_type": "execute_result"
        }
      ],
      "source": [
        "print('test')\n",
        "print('min: ', df_test.views.min())\n",
        "print('mean: ', df_test.views.mean())\n",
        "print('max: ', df_test.views.max())\n",
        "print('median: ', df_test.views.median())\n",
        "df_test.views.value_counts()"
      ]
    },
    {
      "cell_type": "code",
      "execution_count": null,
      "id": "610e81ba",
      "metadata": {
        "colab": {
          "base_uri": "https://localhost:8080/",
          "height": 564
        },
        "id": "610e81ba",
        "outputId": "e69b757d-aa44-4de3-db4d-3ed45bfa04ad"
      },
      "outputs": [
        {
          "data": {
            "image/png": "[encoded data removed]",
            "text/plain": [
              "<Figure size 1000x600 with 1 Axes>"
            ]
          },
          "metadata": {},
          "output_type": "display_data"
        }
      ],
      "source": [
        "plt.figure(figsize=(10, 6))\n",
        "plt.hist(df_train['views'], bins=100, label='train', alpha=0.5)\n",
        "plt.hist(df_test['views'], bins=100, label='test', alpha=0.7)\n",
        "plt.title('Views')\n",
        "plt.xlabel('Views')\n",
        "plt.ylabel('Count')\n",
        "plt.yscale('log')\n",
        "plt.legend()\n",
        "plt.grid(axis='y', linestyle='--', alpha=0.7)\n",
        "plt.show()"
      ]
    },
    {
      "cell_type": "markdown",
      "id": "bca57b17",
      "metadata": {
        "id": "bca57b17"
      },
      "source": [
        "### Output_text"
      ]
    },
    {
      "cell_type": "code",
      "execution_count": null,
      "id": "eebd3838",
      "metadata": {
        "colab": {
          "base_uri": "https://localhost:8080/",
          "height": 577
        },
        "id": "eebd3838",
        "outputId": "adc75af1-dbcc-4369-e2f4-41cdbd65f744"
      },
      "outputs": [
        {
          "name": "stdout",
          "output_type": "stream",
          "text": [
            "train\n",
            "min len:  22\n",
            "mean len:  477.0960576895286\n",
            "max len:  19996\n",
            "median len:  426.0\n"
          ]
        },
        {
          "data": {
            "text/plain": [
              "99      307\n",
              "98      287\n",
              "107     278\n",
              "109     276\n",
              "105     274\n",
              "       ... \n",
              "2922      1\n",
              "2332      1\n",
              "3609      1\n",
              "2184      1\n",
              "4994      1\n",
              "Name: output_text, Length: 2470, dtype: int64"
            ]
          },
          "execution_count": 40,
          "metadata": {},
          "output_type": "execute_result"
        }
      ],
      "source": [
        "print('train')\n",
        "print('min len: ', df_train.output_text.apply(len).min())\n",
        "print('mean len: ', df_train.output_text.apply(len).mean())\n",
        "print('max len: ', df_train.output_text.apply(len).max())\n",
        "print('median len: ', df_train.output_text.apply(len).median())\n",
        "df_train.output_text.apply(len).value_counts()"
      ]
    },
    {
      "cell_type": "code",
      "execution_count": null,
      "id": "6ecb7083",
      "metadata": {
        "colab": {
          "base_uri": "https://localhost:8080/",
          "height": 577
        },
        "id": "6ecb7083",
        "outputId": "32e8de86-b678-4f2a-d116-e34db1b226f4"
      },
      "outputs": [
        {
          "name": "stdout",
          "output_type": "stream",
          "text": [
            "test\n",
            "min len:  30\n",
            "mean len:  475.9472528107749\n",
            "max len:  7485\n",
            "median len:  425.0\n"
          ]
        },
        {
          "data": {
            "text/plain": [
              "109     81\n",
              "107     78\n",
              "389     77\n",
              "438     76\n",
              "101     75\n",
              "        ..\n",
              "1784     1\n",
              "1485     1\n",
              "2379     1\n",
              "1227     1\n",
              "33       1\n",
              "Name: output_text, Length: 1724, dtype: int64"
            ]
          },
          "execution_count": 41,
          "metadata": {},
          "output_type": "execute_result"
        }
      ],
      "source": [
        "print('test')\n",
        "print('min len: ', df_test.output_text.apply(len).min())\n",
        "print('mean len: ', df_test.output_text.apply(len).mean())\n",
        "print('max len: ', df_test.output_text.apply(len).max())\n",
        "print('median len: ', df_test.output_text.apply(len).median())\n",
        "df_test.output_text.apply(len).value_counts()"
      ]
    },
    {
      "cell_type": "code",
      "execution_count": null,
      "id": "5bd1e00d",
      "metadata": {
        "colab": {
          "base_uri": "https://localhost:8080/",
          "height": 564
        },
        "id": "5bd1e00d",
        "outputId": "136d6b2a-1300-4d46-dd98-e4bbdeddb77f"
      },
      "outputs": [
        {
          "data": {
            "image/png": "[encoded data removed]",
            "text/plain": [
              "<Figure size 1000x600 with 1 Axes>"
            ]
          },
          "metadata": {},
          "output_type": "display_data"
        }
      ],
      "source": [
        "plt.figure(figsize=(10, 6))\n",
        "plt.hist(df_train['output_text'].apply(len), bins=100, label='train', alpha=0.5)\n",
        "plt.hist(df_test['output_text'].apply(len), bins=100, label='test', alpha=0.7)\n",
        "plt.title('Output_text len')\n",
        "plt.xlabel('Output_text len')\n",
        "plt.ylabel('Count')\n",
        "plt.yscale('log')\n",
        "plt.legend()\n",
        "plt.grid(axis='y', linestyle='--', alpha=0.7)\n",
        "plt.show()"
      ]
    },
    {
      "cell_type": "markdown",
      "id": "9e18f46b",
      "metadata": {
        "id": "9e18f46b"
      },
      "source": [
        "### Genre"
      ]
    },
    {
      "cell_type": "code",
      "execution_count": null,
      "id": "fd508ca8",
      "metadata": {
        "colab": {
          "base_uri": "https://localhost:8080/",
          "height": 607
        },
        "id": "fd508ca8",
        "outputId": "138edf7b-30fe-44f3-823e-7789ecd5c3e4"
      },
      "outputs": [
        {
          "data": {
            "image/png": "[encoded data removed]",
            "text/plain": [
              "<Figure size 1000x600 with 1 Axes>"
            ]
          },
          "metadata": {},
          "output_type": "display_data"
        }
      ],
      "source": [
        "plt.figure(figsize=(10, 6))\n",
        "plt.bar(df_train['genre'].value_counts().index, df_train['genre'].value_counts().values, label='train')\n",
        "plt.bar(df_test['genre'].value_counts().index, df_test['genre'].value_counts().values, label='test')\n",
        "plt.xticks(rotation=45, ha='right')\n",
        "plt.xlabel('Genre')\n",
        "plt.ylabel('Count')\n",
        "plt.yscale('log')\n",
        "plt.title('Genre')\n",
        "plt.legend()\n",
        "plt.tight_layout()\n",
        "plt.show()"
      ]
    },
    {
      "cell_type": "markdown",
      "id": "576622c0",
      "metadata": {
        "id": "576622c0"
      },
      "source": [
        "- Уберём слишком редкие жанры\n",
        "- Заведём жанр Unknown, для стихотворений с неизвестными жанрами на входе системы\n",
        "- Присвоим 10% случайным примерам жанр Unknown"
      ]
    },
    {
      "cell_type": "code",
      "execution_count": null,
      "id": "c3cb2d32",
      "metadata": {
        "id": "c3cb2d32"
      },
      "outputs": [],
      "source": [
        "bad_genres = ['рубаи', 'рондели', 'рондо', 'бусоку-секитаи', 'танка', 'синтайси']\n",
        "\n",
        "df_train['genre'] = df_train['genre'].apply(lambda genre: 'Unknown' if genre in bad_genres else genre[0].upper() + genre[1:])\n",
        "df_test['genre'] = df_test['genre'].apply(lambda genre: 'Unknown' if genre in bad_genres else genre[0].upper() + genre[1:])\n",
        "\n",
        "_, train_indices_to_replace = train_test_split(df_train.index, test_size=0.1, stratify=df_train['genre'], random_state=42)\n",
        "df_train.loc[train_indices_to_replace, 'genre'] = 'Unknown'\n",
        "\n",
        "_, test_indices_to_replace = train_test_split(df_test.index, test_size=0.1, stratify=df_test['genre'], random_state=42)\n",
        "df_test.loc[test_indices_to_replace, 'genre'] = 'Unknown'"
      ]
    },
    {
      "cell_type": "code",
      "execution_count": null,
      "id": "71bdfae2",
      "metadata": {
        "colab": {
          "base_uri": "https://localhost:8080/",
          "height": 607
        },
        "id": "71bdfae2",
        "outputId": "3c51defc-b532-4aab-8fe8-42db9f36c686"
      },
      "outputs": [
        {
          "data": {
            "image/png": "[encoded data removed]",
            "text/plain": [
              "<Figure size 1000x600 with 1 Axes>"
            ]
          },
          "metadata": {},
          "output_type": "display_data"
        }
      ],
      "source": [
        "plt.figure(figsize=(10, 6))\n",
        "plt.bar(df_train['genre'].value_counts().index, df_train['genre'].value_counts().values, label='train')\n",
        "plt.bar(df_test['genre'].value_counts().index, df_test['genre'].value_counts().values, label='test')\n",
        "plt.xticks(rotation=45, ha='right')\n",
        "plt.xlabel('Genre')\n",
        "plt.ylabel('Count')\n",
        "plt.yscale('log')\n",
        "plt.title('Genre')\n",
        "plt.legend()\n",
        "plt.tight_layout()\n",
        "plt.show()"
      ]
    },
    {
      "cell_type": "markdown",
      "id": "bd4073f0",
      "metadata": {
        "id": "bd4073f0"
      },
      "source": [
        "## Сохраняем данные"
      ]
    },
    {
      "cell_type": "code",
      "execution_count": null,
      "id": "afd0eb39",
      "metadata": {
        "id": "afd0eb39"
      },
      "outputs": [],
      "source": [
        "df_train.to_parquet('df_train.parq')\n",
        "df_test.to_parquet('df_test.parq')"
      ]
    },
    {
      "cell_type": "markdown",
      "id": "04e8f0cf",
      "metadata": {
        "id": "04e8f0cf"
      },
      "source": [
        "## Выводы\n",
        "\n",
        "- Колонка \"url\" может быть использована, если покажется что для верного ранжирования нам всё таки не хватает ещё каких-то мета-данных\n",
        "- Целевая переменная - \"rating\", её диапазон от 0 до n > 1_000, её следует нормализовать для удобного предсказания моделью, так как большинство оценок = 0, то оптимальным диапазоном для предсказания кажется: от 0 до +-5, так как точка 0 в нём двигаться не будет. Нормализация должно учитывать, что в основном оценки распределены около 0 и растянуть этот диапазон, а не сжать в точку 0. Кажется поэтому здесь хорошо подойдёт не Min-Max нормализация, а преобразование log(x+1), и предсказывать именно такие значения. При работе модели в режиме скоринга, можно возвращать оригинальные значения с помощью применения обратной функции: round(exp(max(x, 0))-1).\n",
        "- Основной признак в примерах - текст (колонка \"output_text\"), при токенизации будем ограничивать до 512 токенов, и в некоторых примерах будем обрезать значительную часть текста. Это нужно будет учесть и при плохих результатах рассмотреть эксперименты с лонгформерами.\n",
        "- Колонка \"views\" говорит о надёжности примеров, так как коррелирует с количеством проставленных оценок, а чем больше оценок, тем валиднее средняя оценка. Её можно будет попробовать нормализовать и использовать для взвешивания примеров, но нужно внимательней отнестись к нормализации, чтобы не вышло 1.0 вес у одного примера и 0 у всех остальных, веса примеров должны лишь немного отклоняться от 1.0. Например здесь подойдёт преобразование log(x), затем нормализация по всем примерам, чтобы сумма всех весов была равна количеству примеров.\n",
        "- Колонка \"genre\" является в нашем случае condition, так как ожидаю, что для каждого жанра свои специфичные критерии. Выше мы правильно завели новый жанр \"Unknown\", чтобы система смогла работать со стихами неизвестного жанра и была более универсальной. Жадный подход заключается в обучении своей модели на каждый жанр, но для быстрой разработки попробую обучить одну модель, использующую информацию о жанре с помощью внедрения жанра в начало примера, отделяя от основного текста токеном - [SEP]. Также жанры стоит писать на русском языке, чтобы модель быстрее поняла смысл каждого жанра по его названию, предобученными эмбедингами.\n",
        "- При обучении модели стоит провести эксперименты с отключением влияния колонок \"views\" и \"genre\", так как нету 100% уверенности что подходы к их использованию в модели будут реализованы верно и что эти параметры впринципе влияют на \"rating\"."
      ]
    },
    {
      "cell_type": "markdown",
      "id": "4b3f37e8",
      "metadata": {
        "id": "4b3f37e8"
      },
      "source": [
        "## Обучение модели"
      ]
    },
    {
      "cell_type": "markdown",
      "id": "4e272fb1",
      "metadata": {
        "id": "4e272fb1"
      },
      "source": [
        "### Предварительный анализ:\n",
        "\n",
        "- Выберем архитектуру - BERT, кажется это самый стандартный подход в такой задаче регресии по тексту\n",
        "- Так как в постановке задаче мы всё таки говорим про общий ранжировщик, а не только модель скоринга, то метрик типо: MSE, RMSE или R2, нам не хватит. Нам также нужна общая метрика ранжирования (без дополнительного веса верхним позициям, так как в постановке задачи об этом не говорилось), тогда для нашей задаче кажется хорошо подойдёт: Spearman's rank correlation.\n",
        "- Договоримся о 2 метриках: MSE (для оценки качества скоринга) и Spearman's rank correlation (для общей оценки ранжирования), при этом не забываем, что MSE по факту будет нашим лоссом. Основная метрика: Spearman's rank correlation."
      ]
    },
    {
      "cell_type": "code",
      "execution_count": null,
      "id": "ed37da6b",
      "metadata": {
        "id": "ed37da6b",
        "outputId": "7daa6c2a-c56c-4e9f-f571-c924af8ba5e2"
      },
      "outputs": [
        {
          "name": "stderr",
          "output_type": "stream",
          "text": [
            "/home/konsergeev/venv/lib/python3.10/site-packages/tqdm/auto.py:21: TqdmWarning: IProgress not found. Please update jupyter and ipywidgets. See https://ipywidgets.readthedocs.io/en/stable/user_install.html\n",
            "  from .autonotebook import tqdm as notebook_tqdm\n"
          ]
        }
      ],
      "source": [
        "from transformers import BertTokenizer, BertForSequenceClassification, Trainer, TrainingArguments\n",
        "from torch.utils.data import Dataset, DataLoader\n",
        "from scipy.stats import rankdata\n",
        "import torch\n",
        "import pandas as pd\n",
        "import numpy as np"
      ]
    },
    {
      "cell_type": "markdown",
      "id": "e7f82679",
      "metadata": {
        "id": "e7f82679"
      },
      "source": [
        "### Модель"
      ]
    },
    {
      "cell_type": "code",
      "execution_count": null,
      "id": "b3ae258e",
      "metadata": {
        "id": "b3ae258e",
        "outputId": "a0f25589-6ea9-4fe1-9ba3-147694466807"
      },
      "outputs": [
        {
          "name": "stderr",
          "output_type": "stream",
          "text": [
            "Some weights of BertForSequenceClassification were not initialized from the model checkpoint at sberbank-ai/ruBert-base and are newly initialized: ['classifier.bias', 'classifier.weight']\n",
            "You should probably TRAIN this model on a down-stream task to be able to use it for predictions and inference.\n"
          ]
        }
      ],
      "source": [
        "model_name = 'sberbank-ai/ruBert-base'\n",
        "\n",
        "tokenizer = BertTokenizer.from_pretrained(model_name)\n",
        "model = BertForSequenceClassification.from_pretrained(model_name, num_labels=1)  # num_labels=1 для регрессии"
      ]
    },
    {
      "cell_type": "markdown",
      "id": "def7b922",
      "metadata": {
        "id": "def7b922"
      },
      "source": [
        "### Данные"
      ]
    },
    {
      "cell_type": "code",
      "execution_count": null,
      "id": "b0ad7b50",
      "metadata": {
        "scrolled": true,
        "id": "b0ad7b50",
        "outputId": "dbee716b-387f-45a5-bf9c-ecb1eaccf92a"
      },
      "outputs": [
        {
          "data": {
            "text/html": [
              "<div>\n",
              "<style scoped>\n",
              "    .dataframe tbody tr th:only-of-type {\n",
              "        vertical-align: middle;\n",
              "    }\n",
              "\n",
              "    .dataframe tbody tr th {\n",
              "        vertical-align: top;\n",
              "    }\n",
              "\n",
              "    .dataframe thead th {\n",
              "        text-align: right;\n",
              "    }\n",
              "</style>\n",
              "<table border=\"1\" class=\"dataframe\">\n",
              "  <thead>\n",
              "    <tr style=\"text-align: right;\">\n",
              "      <th></th>\n",
              "      <th>url</th>\n",
              "      <th>rating</th>\n",
              "      <th>views</th>\n",
              "      <th>output_text</th>\n",
              "      <th>genre</th>\n",
              "      <th>rating_log</th>\n",
              "      <th>views_log</th>\n",
              "      <th>output_text_genre</th>\n",
              "    </tr>\n",
              "  </thead>\n",
              "  <tbody>\n",
              "    <tr>\n",
              "      <th>0</th>\n",
              "      <td>https://www.chitalnya.ru/work/3180020/</td>\n",
              "      <td>29</td>\n",
              "      <td>33</td>\n",
              "      <td>Люблю ли осень? Ты спроси у ели -\\nОна в колюч...</td>\n",
              "      <td>Лирика</td>\n",
              "      <td>3.401197</td>\n",
              "      <td>0.859903</td>\n",
              "      <td>Лирика [SEP] Люблю ли осень? Ты спроси у ели -...</td>\n",
              "    </tr>\n",
              "    <tr>\n",
              "      <th>1</th>\n",
              "      <td>https://www.chitalnya.ru/work/2496512/</td>\n",
              "      <td>0</td>\n",
              "      <td>29</td>\n",
              "      <td>Подруга - злая похмелюга\\nУжасно вредная порой...</td>\n",
              "      <td>Юмор</td>\n",
              "      <td>0.000000</td>\n",
              "      <td>0.828125</td>\n",
              "      <td>Юмор [SEP] Подруга - злая похмелюга\\nУжасно вр...</td>\n",
              "    </tr>\n",
              "    <tr>\n",
              "      <th>2</th>\n",
              "      <td>https://www.chitalnya.ru/work/2300891/</td>\n",
              "      <td>73</td>\n",
              "      <td>110</td>\n",
              "      <td>На качелях настроенья\\nМы сегодня улетели\\nВ р...</td>\n",
              "      <td>Лирика</td>\n",
              "      <td>4.304065</td>\n",
              "      <td>1.155998</td>\n",
              "      <td>Лирика [SEP] На качелях настроенья\\nМы сегодня...</td>\n",
              "    </tr>\n",
              "    <tr>\n",
              "      <th>3</th>\n",
              "      <td>https://www.chitalnya.ru/work/3109869/</td>\n",
              "      <td>44</td>\n",
              "      <td>67</td>\n",
              "      <td>Знаешь, Света, с тобой мне просто:\\nУ тебя жив...</td>\n",
              "      <td>Unknown</td>\n",
              "      <td>3.806662</td>\n",
              "      <td>1.034068</td>\n",
              "      <td>Unknown [SEP] Знаешь, Света, с тобой мне прост...</td>\n",
              "    </tr>\n",
              "    <tr>\n",
              "      <th>4</th>\n",
              "      <td>https://www.chitalnya.ru/work/3382840/</td>\n",
              "      <td>0</td>\n",
              "      <td>12</td>\n",
              "      <td>Клянемся, будем помнить погибших мы всегда,\\nИ...</td>\n",
              "      <td>Лирика</td>\n",
              "      <td>0.000000</td>\n",
              "      <td>0.611118</td>\n",
              "      <td>Лирика [SEP] Клянемся, будем помнить погибших ...</td>\n",
              "    </tr>\n",
              "    <tr>\n",
              "      <th>...</th>\n",
              "      <td>...</td>\n",
              "      <td>...</td>\n",
              "      <td>...</td>\n",
              "      <td>...</td>\n",
              "      <td>...</td>\n",
              "      <td>...</td>\n",
              "      <td>...</td>\n",
              "      <td>...</td>\n",
              "    </tr>\n",
              "    <tr>\n",
              "      <th>138391</th>\n",
              "      <td>https://www.chitalnya.ru/work/1153818/</td>\n",
              "      <td>0</td>\n",
              "      <td>136</td>\n",
              "      <td>Как трудно мне определиться -\\nЧервяк я в жизн...</td>\n",
              "      <td>Юмор</td>\n",
              "      <td>0.000000</td>\n",
              "      <td>1.208178</td>\n",
              "      <td>Юмор [SEP] Как трудно мне определиться -\\nЧерв...</td>\n",
              "    </tr>\n",
              "    <tr>\n",
              "      <th>138392</th>\n",
              "      <td>https://www.chitalnya.ru/work/2873976/</td>\n",
              "      <td>74</td>\n",
              "      <td>84</td>\n",
              "      <td>Осенний дождь... Холодный. Хмурый.\\nСтучит, ст...</td>\n",
              "      <td>Лирика</td>\n",
              "      <td>4.317488</td>\n",
              "      <td>1.089679</td>\n",
              "      <td>Лирика [SEP] Осенний дождь... Холодный. Хмурый...</td>\n",
              "    </tr>\n",
              "    <tr>\n",
              "      <th>138393</th>\n",
              "      <td>https://www.chitalnya.ru/work/3140150/</td>\n",
              "      <td>0</td>\n",
              "      <td>10</td>\n",
              "      <td>Ничто не проходит бесследно и даром\\nНичто, ни...</td>\n",
              "      <td>Лирика</td>\n",
              "      <td>0.000000</td>\n",
              "      <td>0.566279</td>\n",
              "      <td>Лирика [SEP] Ничто не проходит бесследно и дар...</td>\n",
              "    </tr>\n",
              "    <tr>\n",
              "      <th>138394</th>\n",
              "      <td>https://www.chitalnya.ru/work/2433508/</td>\n",
              "      <td>30</td>\n",
              "      <td>88</td>\n",
              "      <td>Я предам тебя сейчас,\\nКину в радости и в горе...</td>\n",
              "      <td>Лирика</td>\n",
              "      <td>3.433987</td>\n",
              "      <td>1.101120</td>\n",
              "      <td>Лирика [SEP] Я предам тебя сейчас,\\nКину в рад...</td>\n",
              "    </tr>\n",
              "    <tr>\n",
              "      <th>138395</th>\n",
              "      <td>https://www.chitalnya.ru/work/2975796/</td>\n",
              "      <td>2</td>\n",
              "      <td>446</td>\n",
              "      <td>Чем безнадежнее и строже\\nГода разъединяют нас...</td>\n",
              "      <td>Unknown</td>\n",
              "      <td>1.098612</td>\n",
              "      <td>1.500263</td>\n",
              "      <td>Unknown [SEP] Чем безнадежнее и строже\\nГода р...</td>\n",
              "    </tr>\n",
              "  </tbody>\n",
              "</table>\n",
              "<p>138396 rows × 8 columns</p>\n",
              "</div>"
            ],
            "text/plain": [
              "                                           url  rating  views  \\\n",
              "0       https://www.chitalnya.ru/work/3180020/      29     33   \n",
              "1       https://www.chitalnya.ru/work/2496512/       0     29   \n",
              "2       https://www.chitalnya.ru/work/2300891/      73    110   \n",
              "3       https://www.chitalnya.ru/work/3109869/      44     67   \n",
              "4       https://www.chitalnya.ru/work/3382840/       0     12   \n",
              "...                                        ...     ...    ...   \n",
              "138391  https://www.chitalnya.ru/work/1153818/       0    136   \n",
              "138392  https://www.chitalnya.ru/work/2873976/      74     84   \n",
              "138393  https://www.chitalnya.ru/work/3140150/       0     10   \n",
              "138394  https://www.chitalnya.ru/work/2433508/      30     88   \n",
              "138395  https://www.chitalnya.ru/work/2975796/       2    446   \n",
              "\n",
              "                                              output_text    genre  \\\n",
              "0       Люблю ли осень? Ты спроси у ели -\\nОна в колюч...   Лирика   \n",
              "1       Подруга - злая похмелюга\\nУжасно вредная порой...     Юмор   \n",
              "2       На качелях настроенья\\nМы сегодня улетели\\nВ р...   Лирика   \n",
              "3       Знаешь, Света, с тобой мне просто:\\nУ тебя жив...  Unknown   \n",
              "4       Клянемся, будем помнить погибших мы всегда,\\nИ...   Лирика   \n",
              "...                                                   ...      ...   \n",
              "138391  Как трудно мне определиться -\\nЧервяк я в жизн...     Юмор   \n",
              "138392  Осенний дождь... Холодный. Хмурый.\\nСтучит, ст...   Лирика   \n",
              "138393  Ничто не проходит бесследно и даром\\nНичто, ни...   Лирика   \n",
              "138394  Я предам тебя сейчас,\\nКину в радости и в горе...   Лирика   \n",
              "138395  Чем безнадежнее и строже\\nГода разъединяют нас...  Unknown   \n",
              "\n",
              "        rating_log  views_log  \\\n",
              "0         3.401197   0.859903   \n",
              "1         0.000000   0.828125   \n",
              "2         4.304065   1.155998   \n",
              "3         3.806662   1.034068   \n",
              "4         0.000000   0.611118   \n",
              "...            ...        ...   \n",
              "138391    0.000000   1.208178   \n",
              "138392    4.317488   1.089679   \n",
              "138393    0.000000   0.566279   \n",
              "138394    3.433987   1.101120   \n",
              "138395    1.098612   1.500263   \n",
              "\n",
              "                                        output_text_genre  \n",
              "0       Лирика [SEP] Люблю ли осень? Ты спроси у ели -...  \n",
              "1       Юмор [SEP] Подруга - злая похмелюга\\nУжасно вр...  \n",
              "2       Лирика [SEP] На качелях настроенья\\nМы сегодня...  \n",
              "3       Unknown [SEP] Знаешь, Света, с тобой мне прост...  \n",
              "4       Лирика [SEP] Клянемся, будем помнить погибших ...  \n",
              "...                                                   ...  \n",
              "138391  Юмор [SEP] Как трудно мне определиться -\\nЧерв...  \n",
              "138392  Лирика [SEP] Осенний дождь... Холодный. Хмурый...  \n",
              "138393  Лирика [SEP] Ничто не проходит бесследно и дар...  \n",
              "138394  Лирика [SEP] Я предам тебя сейчас,\\nКину в рад...  \n",
              "138395  Unknown [SEP] Чем безнадежнее и строже\\nГода р...  \n",
              "\n",
              "[138396 rows x 8 columns]"
            ]
          },
          "execution_count": 3,
          "metadata": {},
          "output_type": "execute_result"
        }
      ],
      "source": [
        "df_train = pd.read_parquet('df_train.parq')\n",
        "df_test = pd.read_parquet('df_test.parq')\n",
        "\n",
        "# log(rating + 1)\n",
        "df_train['rating_log'] = np.log(df_train['rating'] + 1)\n",
        "df_test['rating_log'] = np.log(df_test['rating'] + 1)\n",
        "\n",
        "# log(views) используется только при обучении и оценки, не используется в конечной системе\n",
        "df_train['views_log'] = np.log(df_train['views'])\n",
        "df_train['views_log'] = df_train['views_log'] / df_train['views_log'].sum() * len(df_train)\n",
        "df_test['views_log'] = np.log(df_test['views'])\n",
        "df_test['views_log'] = df_test['views_log'] / df_test['views_log'].sum() * len(df_test)\n",
        "\n",
        "# genre + ' [SEP] ' + output_text\n",
        "df_train['output_text_genre'] = df_train['genre'] + ' [SEP] ' + df_train['output_text']\n",
        "df_test['output_text_genre'] = df_test['genre'] + ' [SEP] ' + df_test['output_text']\n",
        "df_train"
      ]
    },
    {
      "cell_type": "code",
      "execution_count": null,
      "id": "2d45a74b",
      "metadata": {
        "id": "2d45a74b"
      },
      "outputs": [],
      "source": [
        "def tokenize_function(texts):\n",
        "    return tokenizer(texts, padding='max_length', truncation=True, max_length=512, return_tensors='pt')\n",
        "\n",
        "encodings_train = tokenize_function(df_train['output_text_genre'].tolist())\n",
        "encodings_test = tokenize_function(df_test['output_text_genre'].tolist())"
      ]
    },
    {
      "cell_type": "code",
      "execution_count": null,
      "id": "3d35787e",
      "metadata": {
        "id": "3d35787e"
      },
      "outputs": [],
      "source": [
        "class RegressionDataset(Dataset):\n",
        "    def __init__(self, encodings, labels, weights):\n",
        "        self.encodings = encodings\n",
        "        self.labels = labels\n",
        "        self.weights = weights\n",
        "\n",
        "    def __getitem__(self, idx):\n",
        "        item = {key: val[idx] for key, val in self.encodings.items()}\n",
        "        item['labels'] = torch.tensor(self.labels[idx], dtype=torch.float)\n",
        "        item['weights'] = torch.tensor(self.weights[idx], dtype=torch.float)\n",
        "        return item\n",
        "\n",
        "    def __len__(self):\n",
        "        return len(self.labels)"
      ]
    },
    {
      "cell_type": "code",
      "execution_count": null,
      "id": "308f125c",
      "metadata": {
        "id": "308f125c"
      },
      "outputs": [],
      "source": [
        "dataset_train = RegressionDataset(encodings_train, df_train['rating_log'].tolist(), df_train['views_log'].tolist())\n",
        "dataset_test = RegressionDataset(encodings_test, df_test['rating_log'].tolist(), df_test['views_log'].tolist())"
      ]
    },
    {
      "cell_type": "markdown",
      "id": "a0fb6b52",
      "metadata": {
        "id": "a0fb6b52"
      },
      "source": [
        "### Обучение"
      ]
    },
    {
      "cell_type": "code",
      "execution_count": null,
      "id": "3e3816e8",
      "metadata": {
        "id": "3e3816e8"
      },
      "outputs": [],
      "source": [
        "class WeightedDataCollator:\n",
        "    def __call__(self, features):\n",
        "        batch = {}\n",
        "        batch['input_ids'] = torch.stack([f['input_ids'] for f in features])\n",
        "        batch['attention_mask'] = torch.stack([f['attention_mask'] for f in features])\n",
        "        batch['labels'] = torch.tensor([f['labels'] for f in features])\n",
        "        batch['weights'] = torch.tensor([f['weights'] for f in features])\n",
        "        return batch\n",
        "\n",
        "\n",
        "class WeightedTrainer(Trainer):\n",
        "    def get_train_dataloader(self):\n",
        "        return DataLoader(\n",
        "            self.train_dataset,\n",
        "            batch_size=self.args.per_device_train_batch_size,\n",
        "            shuffle=True,\n",
        "            collate_fn=WeightedDataCollator()\n",
        "        )\n",
        "\n",
        "    def get_eval_dataloader(self, eval_dataset=None):\n",
        "        dataset = eval_dataset or self.eval_dataset\n",
        "        return DataLoader(\n",
        "            dataset,\n",
        "            batch_size=self.args.per_device_eval_batch_size,\n",
        "            shuffle=False,\n",
        "            collate_fn=WeightedDataCollator()\n",
        "        )\n",
        "\n",
        "    def compute_loss(self, model, inputs, return_outputs=False):\n",
        "        labels = inputs.pop(\"labels\")\n",
        "        weights = inputs.pop(\"weights\")\n",
        "        outputs = model(**inputs)[0].view(-1)\n",
        "        loss = (weights * (outputs - labels) ** 2).mean()\n",
        "        return (loss, {\"logits\": outputs, \"weights\": weights}) if return_outputs else loss"
      ]
    },
    {
      "cell_type": "code",
      "execution_count": null,
      "id": "42d285ae",
      "metadata": {
        "id": "42d285ae"
      },
      "outputs": [],
      "source": [
        "# Взвешенная корреляция Спирмена\n",
        "def weighted_spearman_correlation(x, y, weights):\n",
        "    # Присваиваем ранги данным\n",
        "    rank_x = rankdata(x)\n",
        "    rank_y = rankdata(y)\n",
        "\n",
        "    # Применяем веса к рангам\n",
        "    weighted_rank_x = rank_x * weights\n",
        "    weighted_rank_y = rank_y * weights\n",
        "\n",
        "    # Вычисляем средние взвешенные ранги\n",
        "    mean_weighted_rank_x = np.average(weighted_rank_x, weights=weights)\n",
        "    mean_weighted_rank_y = np.average(weighted_rank_y, weights=weights)\n",
        "\n",
        "    # Вычисляем ковариацию\n",
        "    cov_xy = np.sum(weights * (weighted_rank_x - mean_weighted_rank_x) * (weighted_rank_y - mean_weighted_rank_y))\n",
        "\n",
        "    # Вычисляем стандартные отклонения\n",
        "    std_x = np.sqrt(np.sum(weights * (weighted_rank_x - mean_weighted_rank_x) ** 2))\n",
        "    std_y = np.sqrt(np.sum(weights * (weighted_rank_y - mean_weighted_rank_y) ** 2))\n",
        "\n",
        "    # Вычисляем взвешенную корреляцию Спирмена\n",
        "    weighted_spearman_corr = cov_xy / (std_x * std_y)\n",
        "\n",
        "    return weighted_spearman_corr\n",
        "\n",
        "\n",
        "def compute_metrics(eval_pred):\n",
        "    outputs, weights = eval_pred.predictions\n",
        "    labels = eval_pred.label_ids\n",
        "    mse = (weights * (labels - outputs) ** 2).mean()\n",
        "    correlation = weighted_spearman_correlation(labels, outputs, weights)\n",
        "    return {'mse': mse, \"correlation\": correlation}"
      ]
    },
    {
      "cell_type": "code",
      "execution_count": null,
      "id": "b806d644",
      "metadata": {
        "id": "b806d644",
        "outputId": "43b04120-b4b9-4126-d0e5-baca9a5ee416"
      },
      "outputs": [
        {
          "name": "stderr",
          "output_type": "stream",
          "text": [
            "/home/konsergeev/venv/lib/python3.10/site-packages/transformers/training_args.py:1545: FutureWarning: `evaluation_strategy` is deprecated and will be removed in version 4.46 of 🤗 Transformers. Use `eval_strategy` instead\n",
            "  warnings.warn(\n"
          ]
        }
      ],
      "source": [
        "# 8 H100\n",
        "\n",
        "training_args = TrainingArguments(\n",
        "    output_dir='./results',\n",
        "    evaluation_strategy='steps',\n",
        "    per_device_train_batch_size=1024,\n",
        "    per_device_eval_batch_size=1024,\n",
        "    num_train_epochs=3,\n",
        "    eval_steps=100,\n",
        "    logging_steps=100,\n",
        "    save_steps=1_000_000,\n",
        ")"
      ]
    },
    {
      "cell_type": "code",
      "execution_count": null,
      "id": "fd4e6261",
      "metadata": {
        "id": "fd4e6261"
      },
      "outputs": [],
      "source": [
        "trainer = WeightedTrainer(\n",
        "    model=model,\n",
        "    args=training_args,\n",
        "    train_dataset=dataset_train,\n",
        "    eval_dataset=dataset_test,\n",
        "    compute_metrics=compute_metrics,\n",
        ")"
      ]
    },
    {
      "cell_type": "markdown",
      "id": "9bbbb03b",
      "metadata": {
        "id": "9bbbb03b"
      },
      "source": [
        "### Эксперименты"
      ]
    },
    {
      "cell_type": "code",
      "execution_count": null,
      "id": "8f06b9bb-c966-48fa-bb03-2e43579b5d80",
      "metadata": {
        "id": "8f06b9bb-c966-48fa-bb03-2e43579b5d80",
        "outputId": "a5404264-b53c-4b47-d291-b6c15d95e11f"
      },
      "outputs": [
        {
          "name": "stderr",
          "output_type": "stream",
          "text": [
            "/home/konsergeev/venv/lib/python3.10/site-packages/torch/nn/parallel/parallel_apply.py:79: FutureWarning: `torch.cuda.amp.autocast(args...)` is deprecated. Please use `torch.amp.autocast('cuda', args...)` instead.\n",
            "  with torch.cuda.device(device), torch.cuda.stream(stream), autocast(enabled=autocast_enabled):\n"
          ]
        },
        {
          "data": {
            "text/html": [
              "\n",
              "    <div>\n",
              "      \n",
              "      <progress value='408' max='408' style='width:300px; height:20px; vertical-align: middle;'></progress>\n",
              "      [408/408 07:46, Epoch 3/3]\n",
              "    </div>\n",
              "    <table border=\"1\" class=\"dataframe\">\n",
              "  <thead>\n",
              " <tr style=\"text-align: left;\">\n",
              "      <th>Step</th>\n",
              "      <th>Training Loss</th>\n",
              "      <th>Validation Loss</th>\n",
              "      <th>Mse</th>\n",
              "      <th>Correlation</th>\n",
              "    </tr>\n",
              "  </thead>\n",
              "  <tbody>\n",
              "    <tr>\n",
              "      <td>100</td>\n",
              "      <td>1456.975300</td>\n",
              "      <td>1512.583130</td>\n",
              "      <td>1515.580200</td>\n",
              "      <td>0.537323</td>\n",
              "    </tr>\n",
              "    <tr>\n",
              "      <td>200</td>\n",
              "      <td>1392.256200</td>\n",
              "      <td>1490.490845</td>\n",
              "      <td>1493.457275</td>\n",
              "      <td>0.564668</td>\n",
              "    </tr>\n",
              "    <tr>\n",
              "      <td>300</td>\n",
              "      <td>1354.398400</td>\n",
              "      <td>1480.506592</td>\n",
              "      <td>1483.479614</td>\n",
              "      <td>0.569109</td>\n",
              "    </tr>\n",
              "    <tr>\n",
              "      <td>400</td>\n",
              "      <td>1336.429200</td>\n",
              "      <td>1478.143433</td>\n",
              "      <td>1481.102173</td>\n",
              "      <td>0.577465</td>\n",
              "    </tr>\n",
              "  </tbody>\n",
              "</table><p>"
            ],
            "text/plain": [
              "<IPython.core.display.HTML object>"
            ]
          },
          "metadata": {},
          "output_type": "display_data"
        },
        {
          "name": "stderr",
          "output_type": "stream",
          "text": [
            "/home/konsergeev/venv/lib/python3.10/site-packages/torch/nn/parallel/parallel_apply.py:79: FutureWarning: `torch.cuda.amp.autocast(args...)` is deprecated. Please use `torch.amp.autocast('cuda', args...)` instead.\n",
            "  with torch.cuda.device(device), torch.cuda.stream(stream), autocast(enabled=autocast_enabled):\n"
          ]
        },
        {
          "data": {
            "text/html": [
              "\n",
              "    <div>\n",
              "      \n",
              "      <progress value='34' max='34' style='width:300px; height:20px; vertical-align: middle;'></progress>\n",
              "      [34/34 00:11]\n",
              "    </div>\n",
              "    "
            ],
            "text/plain": [
              "<IPython.core.display.HTML object>"
            ]
          },
          "metadata": {},
          "output_type": "display_data"
        },
        {
          "data": {
            "text/plain": [
              "{'eval_loss': 1477.990478515625,\n",
              " 'eval_mse': 1480.9488525390625,\n",
              " 'eval_correlation': 0.5772875327226574,\n",
              " 'eval_runtime': 11.3242,\n",
              " 'eval_samples_per_second': 3055.304,\n",
              " 'eval_steps_per_second': 0.442,\n",
              " 'epoch': 3.0}"
            ]
          },
          "execution_count": 11,
          "metadata": {},
          "output_type": "execute_result"
        }
      ],
      "source": [
        "# log(views) + genre\n",
        "\n",
        "trainer.train()\n",
        "trainer.evaluate()"
      ]
    },
    {
      "cell_type": "code",
      "execution_count": null,
      "id": "253e9ef2-bf24-4453-add9-ed59dd82b71d",
      "metadata": {
        "id": "253e9ef2-bf24-4453-add9-ed59dd82b71d",
        "outputId": "fc195759-3050-4b90-d530-afaab3e6bc21"
      },
      "outputs": [
        {
          "name": "stderr",
          "output_type": "stream",
          "text": [
            "/home/konsergeev/venv/lib/python3.10/site-packages/torch/nn/parallel/parallel_apply.py:79: FutureWarning: `torch.cuda.amp.autocast(args...)` is deprecated. Please use `torch.amp.autocast('cuda', args...)` instead.\n",
            "  with torch.cuda.device(device), torch.cuda.stream(stream), autocast(enabled=autocast_enabled):\n"
          ]
        },
        {
          "data": {
            "text/html": [
              "\n",
              "    <div>\n",
              "      \n",
              "      <progress value='408' max='408' style='width:300px; height:20px; vertical-align: middle;'></progress>\n",
              "      [408/408 07:44, Epoch 3/3]\n",
              "    </div>\n",
              "    <table border=\"1\" class=\"dataframe\">\n",
              "  <thead>\n",
              " <tr style=\"text-align: left;\">\n",
              "      <th>Step</th>\n",
              "      <th>Training Loss</th>\n",
              "      <th>Validation Loss</th>\n",
              "      <th>Mse</th>\n",
              "      <th>Correlation</th>\n",
              "    </tr>\n",
              "  </thead>\n",
              "  <tbody>\n",
              "    <tr>\n",
              "      <td>100</td>\n",
              "      <td>2.035100</td>\n",
              "      <td>1.972079</td>\n",
              "      <td>1.972723</td>\n",
              "      <td>0.369757</td>\n",
              "    </tr>\n",
              "    <tr>\n",
              "      <td>200</td>\n",
              "      <td>1.876500</td>\n",
              "      <td>1.916407</td>\n",
              "      <td>1.916930</td>\n",
              "      <td>0.384998</td>\n",
              "    </tr>\n",
              "    <tr>\n",
              "      <td>300</td>\n",
              "      <td>1.785100</td>\n",
              "      <td>1.926702</td>\n",
              "      <td>1.927079</td>\n",
              "      <td>0.389385</td>\n",
              "    </tr>\n",
              "    <tr>\n",
              "      <td>400</td>\n",
              "      <td>1.673200</td>\n",
              "      <td>1.948024</td>\n",
              "      <td>1.948462</td>\n",
              "      <td>0.389793</td>\n",
              "    </tr>\n",
              "  </tbody>\n",
              "</table><p>"
            ],
            "text/plain": [
              "<IPython.core.display.HTML object>"
            ]
          },
          "metadata": {},
          "output_type": "display_data"
        },
        {
          "name": "stderr",
          "output_type": "stream",
          "text": [
            "/home/konsergeev/venv/lib/python3.10/site-packages/torch/nn/parallel/parallel_apply.py:79: FutureWarning: `torch.cuda.amp.autocast(args...)` is deprecated. Please use `torch.amp.autocast('cuda', args...)` instead.\n",
            "  with torch.cuda.device(device), torch.cuda.stream(stream), autocast(enabled=autocast_enabled):\n"
          ]
        },
        {
          "data": {
            "text/html": [
              "\n",
              "    <div>\n",
              "      \n",
              "      <progress value='34' max='34' style='width:300px; height:20px; vertical-align: middle;'></progress>\n",
              "      [34/34 00:11]\n",
              "    </div>\n",
              "    "
            ],
            "text/plain": [
              "<IPython.core.display.HTML object>"
            ]
          },
          "metadata": {},
          "output_type": "display_data"
        },
        {
          "data": {
            "text/plain": [
              "{'eval_loss': 1.9464154243469238,\n",
              " 'eval_mse': 1.946851372718811,\n",
              " 'eval_correlation': 0.38992004294575777,\n",
              " 'eval_runtime': 11.3566,\n",
              " 'eval_samples_per_second': 3046.59,\n",
              " 'eval_steps_per_second': 0.44,\n",
              " 'epoch': 3.0}"
            ]
          },
          "execution_count": 11,
          "metadata": {},
          "output_type": "execute_result"
        }
      ],
      "source": [
        "# log(rating + 1) + genre\n",
        "\n",
        "trainer.train()\n",
        "trainer.evaluate()"
      ]
    },
    {
      "cell_type": "code",
      "execution_count": null,
      "id": "5914f60a",
      "metadata": {
        "id": "5914f60a",
        "outputId": "2b890b82-2141-4f95-a848-185c9eb8ca21"
      },
      "outputs": [
        {
          "name": "stderr",
          "output_type": "stream",
          "text": [
            "/home/konsergeev/venv/lib/python3.10/site-packages/torch/nn/parallel/parallel_apply.py:79: FutureWarning: `torch.cuda.amp.autocast(args...)` is deprecated. Please use `torch.amp.autocast('cuda', args...)` instead.\n",
            "  with torch.cuda.device(device), torch.cuda.stream(stream), autocast(enabled=autocast_enabled):\n"
          ]
        },
        {
          "data": {
            "text/html": [
              "\n",
              "    <div>\n",
              "      \n",
              "      <progress value='408' max='408' style='width:300px; height:20px; vertical-align: middle;'></progress>\n",
              "      [408/408 07:34, Epoch 3/3]\n",
              "    </div>\n",
              "    <table border=\"1\" class=\"dataframe\">\n",
              "  <thead>\n",
              " <tr style=\"text-align: left;\">\n",
              "      <th>Step</th>\n",
              "      <th>Training Loss</th>\n",
              "      <th>Validation Loss</th>\n",
              "      <th>Mse</th>\n",
              "      <th>Correlation</th>\n",
              "    </tr>\n",
              "  </thead>\n",
              "  <tbody>\n",
              "    <tr>\n",
              "      <td>100</td>\n",
              "      <td>2.280300</td>\n",
              "      <td>2.273082</td>\n",
              "      <td>2.273855</td>\n",
              "      <td>0.565418</td>\n",
              "    </tr>\n",
              "    <tr>\n",
              "      <td>200</td>\n",
              "      <td>2.109500</td>\n",
              "      <td>2.178137</td>\n",
              "      <td>2.178649</td>\n",
              "      <td>0.585500</td>\n",
              "    </tr>\n",
              "    <tr>\n",
              "      <td>300</td>\n",
              "      <td>1.977000</td>\n",
              "      <td>2.228289</td>\n",
              "      <td>2.228750</td>\n",
              "      <td>0.585176</td>\n",
              "    </tr>\n",
              "    <tr>\n",
              "      <td>400</td>\n",
              "      <td>1.830800</td>\n",
              "      <td>2.289797</td>\n",
              "      <td>2.290166</td>\n",
              "      <td>0.586413</td>\n",
              "    </tr>\n",
              "  </tbody>\n",
              "</table><p>"
            ],
            "text/plain": [
              "<IPython.core.display.HTML object>"
            ]
          },
          "metadata": {},
          "output_type": "display_data"
        },
        {
          "name": "stderr",
          "output_type": "stream",
          "text": [
            "/home/konsergeev/venv/lib/python3.10/site-packages/torch/nn/parallel/parallel_apply.py:79: FutureWarning: `torch.cuda.amp.autocast(args...)` is deprecated. Please use `torch.amp.autocast('cuda', args...)` instead.\n",
            "  with torch.cuda.device(device), torch.cuda.stream(stream), autocast(enabled=autocast_enabled):\n"
          ]
        },
        {
          "data": {
            "text/html": [
              "\n",
              "    <div>\n",
              "      \n",
              "      <progress value='34' max='34' style='width:300px; height:20px; vertical-align: middle;'></progress>\n",
              "      [34/34 00:11]\n",
              "    </div>\n",
              "    "
            ],
            "text/plain": [
              "<IPython.core.display.HTML object>"
            ]
          },
          "metadata": {},
          "output_type": "display_data"
        },
        {
          "data": {
            "text/plain": [
              "{'eval_loss': 2.2743167877197266,\n",
              " 'eval_mse': 2.274677038192749,\n",
              " 'eval_correlation': 0.5862731625651362,\n",
              " 'eval_runtime': 11.3575,\n",
              " 'eval_samples_per_second': 3046.351,\n",
              " 'eval_steps_per_second': 0.44,\n",
              " 'epoch': 3.0}"
            ]
          },
          "execution_count": 11,
          "metadata": {},
          "output_type": "execute_result"
        }
      ],
      "source": [
        "# log(rating + 1) + log(views)\n",
        "\n",
        "trainer.train()\n",
        "trainer.evaluate()"
      ]
    },
    {
      "cell_type": "code",
      "execution_count": null,
      "id": "fad7de35-3446-4018-bf2f-03399d9d10da",
      "metadata": {
        "scrolled": true,
        "id": "fad7de35-3446-4018-bf2f-03399d9d10da",
        "outputId": "a57e42b0-4d15-4d0e-c9bc-4f769e688dab"
      },
      "outputs": [
        {
          "name": "stderr",
          "output_type": "stream",
          "text": [
            "/home/konsergeev/venv/lib/python3.10/site-packages/torch/nn/parallel/parallel_apply.py:79: FutureWarning: `torch.cuda.amp.autocast(args...)` is deprecated. Please use `torch.amp.autocast('cuda', args...)` instead.\n",
            "  with torch.cuda.device(device), torch.cuda.stream(stream), autocast(enabled=autocast_enabled):\n"
          ]
        },
        {
          "data": {
            "text/html": [
              "\n",
              "    <div>\n",
              "      \n",
              "      <progress value='408' max='408' style='width:300px; height:20px; vertical-align: middle;'></progress>\n",
              "      [408/408 07:43, Epoch 3/3]\n",
              "    </div>\n",
              "    <table border=\"1\" class=\"dataframe\">\n",
              "  <thead>\n",
              " <tr style=\"text-align: left;\">\n",
              "      <th>Step</th>\n",
              "      <th>Training Loss</th>\n",
              "      <th>Validation Loss</th>\n",
              "      <th>Mse</th>\n",
              "      <th>Correlation</th>\n",
              "    </tr>\n",
              "  </thead>\n",
              "  <tbody>\n",
              "    <tr>\n",
              "      <td>100</td>\n",
              "      <td>2.235400</td>\n",
              "      <td>2.165583</td>\n",
              "      <td>2.166251</td>\n",
              "      <td>0.602065</td>\n",
              "    </tr>\n",
              "    <tr>\n",
              "      <td>200</td>\n",
              "      <td>2.068800</td>\n",
              "      <td>2.097695</td>\n",
              "      <td>2.098147</td>\n",
              "      <td>0.612364</td>\n",
              "    </tr>\n",
              "    <tr>\n",
              "      <td>300</td>\n",
              "      <td>1.941000</td>\n",
              "      <td>2.125100</td>\n",
              "      <td>2.125529</td>\n",
              "      <td>0.618927</td>\n",
              "    </tr>\n",
              "    <tr>\n",
              "      <td>400</td>\n",
              "      <td>1.816000</td>\n",
              "      <td>2.136946</td>\n",
              "      <td>2.137401</td>\n",
              "      <td>0.618975</td>\n",
              "    </tr>\n",
              "  </tbody>\n",
              "</table><p>"
            ],
            "text/plain": [
              "<IPython.core.display.HTML object>"
            ]
          },
          "metadata": {},
          "output_type": "display_data"
        },
        {
          "name": "stderr",
          "output_type": "stream",
          "text": [
            "/home/konsergeev/venv/lib/python3.10/site-packages/torch/nn/parallel/parallel_apply.py:79: FutureWarning: `torch.cuda.amp.autocast(args...)` is deprecated. Please use `torch.amp.autocast('cuda', args...)` instead.\n",
            "  with torch.cuda.device(device), torch.cuda.stream(stream), autocast(enabled=autocast_enabled):\n"
          ]
        },
        {
          "data": {
            "text/html": [
              "\n",
              "    <div>\n",
              "      \n",
              "      <progress value='34' max='34' style='width:300px; height:20px; vertical-align: middle;'></progress>\n",
              "      [34/34 00:11]\n",
              "    </div>\n",
              "    "
            ],
            "text/plain": [
              "<IPython.core.display.HTML object>"
            ]
          },
          "metadata": {},
          "output_type": "display_data"
        },
        {
          "data": {
            "text/plain": [
              "{'eval_loss': 2.1347179412841797,\n",
              " 'eval_mse': 2.1351726055145264,\n",
              " 'eval_correlation': 0.6190341588754198,\n",
              " 'eval_runtime': 11.3486,\n",
              " 'eval_samples_per_second': 3048.751,\n",
              " 'eval_steps_per_second': 0.441,\n",
              " 'epoch': 3.0}"
            ]
          },
          "execution_count": 11,
          "metadata": {},
          "output_type": "execute_result"
        }
      ],
      "source": [
        "# log(rating + 1) + log(views) + genre\n",
        "\n",
        "trainer.train()\n",
        "trainer.evaluate()"
      ]
    },
    {
      "cell_type": "code",
      "execution_count": null,
      "id": "14748237-7781-4a05-9b96-d2d4a0c0e556",
      "metadata": {
        "id": "14748237-7781-4a05-9b96-d2d4a0c0e556"
      },
      "outputs": [],
      "source": [
        "torch.save(model.state_dict(), 'model_weights.pth')"
      ]
    },
    {
      "cell_type": "code",
      "execution_count": null,
      "id": "e68b07ae-5c5a-41ee-a2b4-07087a38ae38",
      "metadata": {
        "id": "e68b07ae-5c5a-41ee-a2b4-07087a38ae38",
        "outputId": "471af527-2f4c-484e-9b12-371af994d968"
      },
      "outputs": [
        {
          "data": {
            "text/plain": [
              "['Лирика',\n",
              " 'Юмор',\n",
              " 'Unknown',\n",
              " 'Песни',\n",
              " 'Эротика',\n",
              " 'Поэтические переводы',\n",
              " 'Акростихи',\n",
              " 'Стихи для детей',\n",
              " 'Басни',\n",
              " 'Поэмы и циклы стихов',\n",
              " 'Частушки',\n",
              " 'Баллады',\n",
              " 'Новая экспериментальная поэзия',\n",
              " 'Матерные стихи',\n",
              " 'Мистика',\n",
              " 'Эзотерика',\n",
              " 'Сонеты',\n",
              " 'Декадентство',\n",
              " 'Стихи о войне',\n",
              " 'Манифест',\n",
              " 'Лимерики',\n",
              " 'Поп-музыка',\n",
              " 'Романсы',\n",
              " 'Переводы песен',\n",
              " 'Шансон',\n",
              " 'Рок',\n",
              " 'Авторская песня',\n",
              " 'Рэп',\n",
              " 'Тексты песен',\n",
              " 'Переделки песен',\n",
              " 'Триолеты']"
            ]
          },
          "execution_count": 13,
          "metadata": {},
          "output_type": "execute_result"
        }
      ],
      "source": [
        "# Жанры при обучении\n",
        "list(df_train['genre'].value_counts().index)"
      ]
    },
    {
      "cell_type": "markdown",
      "id": "64403561",
      "metadata": {
        "id": "64403561"
      },
      "source": [
        "### Тестирование"
      ]
    },
    {
      "cell_type": "code",
      "execution_count": null,
      "id": "d2f8542c-0949-4202-ad50-4f4cfddf3ae0",
      "metadata": {
        "id": "d2f8542c-0949-4202-ad50-4f4cfddf3ae0"
      },
      "outputs": [],
      "source": [
        "# Ручное тестирование нескольких примеров из тестовой выборки\n",
        "\n",
        "def rating_predict(model, text, genre='Unknown'):\n",
        "    input_text = genre + ' [SEP] ' + text\n",
        "    input_ids = tokenizer(input_text , padding='max_length', truncation=True, max_length=512, return_tensors='pt').to('cuda')\n",
        "    output = model(**input_ids)[0].item()\n",
        "    output = round(np.exp(max(0, output)) - 1)\n",
        "    return output"
      ]
    },
    {
      "cell_type": "code",
      "execution_count": null,
      "id": "21370e8a-c07d-4c53-8d2e-b449233a109a",
      "metadata": {
        "scrolled": true,
        "id": "21370e8a-c07d-4c53-8d2e-b449233a109a",
        "outputId": "4a132a60-aca9-4737-b151-7a8c915cf3d7"
      },
      "outputs": [
        {
          "name": "stdout",
          "output_type": "stream",
          "text": [
            "Нынче головы четыре у дракона,\n",
            "Пожиратель президентов он мастак.\n",
            "На него управы нет, и нет закона,\n",
            "В споре с ним же попадёт любой впросак.\n",
            "\n",
            "У него в кармане сотни триллионов.\n",
            "Для него богач - обычный нищеброд.\n",
            "Нету больше никаких на свете тронов,\n",
            "Ни во что не ставит он любой народ.\n",
            "\n",
            "Он прикажет слугам - выпилить любого\n",
            "С интернета, те его прогонят прочь,\n",
            "И никто не пикнет, не промолвит слова,\n",
            "Некому бедняге на земле помочь.\n",
            "\n",
            "И всё потому, что присягнули змею,\n",
            "Отступив от Бога, скорбен наш удел.\n",
            "Служат люди молча мерзкому пигмею,\n",
            "Поголовно, будто вовсе оборзев.\n",
            "\n",
            "Нынче люди лживы, врут напраполую.\n",
            "Он сегодня баба, завтра же мужик.\n",
            "Грабят, убивают, даже мать родную\n",
            "Могут погубить, коль сам дракон велит.\n",
            "\n",
            "Времена драконьи - времена инферно.\n",
            "Ковид пандемия - следствие его,\n",
            "Обезумевши, спешит планету ввергнуть\n",
            "В бездну - так уже желает бошинство.\n",
            "\n",
            "Жанр:  Лирика\n",
            "Рейтинг:  0\n",
            "Предсказанный рейтинг без знания жанра:  2\n",
            "Предсказанный рейтинг со знанием жанра:  2\n"
          ]
        }
      ],
      "source": [
        "text = df_test['output_text'].values[0]\n",
        "print(text)\n",
        "print()\n",
        "print('Жанр: ', df_test['genre'].values[0])\n",
        "print('Рейтинг: ', df_test['rating'].values[0])\n",
        "print('Предсказанный рейтинг без знания жанра: ', rating_predict(model, text, genre='Unknown'))\n",
        "print('Предсказанный рейтинг со знанием жанра: ', rating_predict(model, text, genre='Лирика'))"
      ]
    },
    {
      "cell_type": "code",
      "execution_count": null,
      "id": "7fd84a38-c28b-49e9-bdbb-369d121e4477",
      "metadata": {
        "scrolled": true,
        "id": "7fd84a38-c28b-49e9-bdbb-369d121e4477",
        "outputId": "ecaedf93-436d-407b-eb3f-bd0e2ea38d8e"
      },
      "outputs": [
        {
          "name": "stdout",
          "output_type": "stream",
          "text": [
            "Стая птиц летит по небосводу,\n",
            "За собою, в прошлое, маня...\n",
            "Я грущу, что прожитые годы\n",
            "Улетают птицей от меня.\n",
            "\n",
            "Стая птиц летит, и в поднебесье\n",
            "Мне курлычут песню журавли...\n",
            "Мне тревожит душу эта песня,\n",
            "Вспомнил сад, где яблони цвели.\n",
            "\n",
            "Вспомнил детства небо голубое,\n",
            "Вспомнил я сиреневый рассвет,\n",
            "Вспомнил клен, растущий возле дома...\n",
            "Только жаль, что дома больше нет.\n",
            "\n",
            "Замело уж в прошлое дорожку,\n",
            "Постарел резной красивый клен...\n",
            "Я на миг представлю, понарошку,\n",
            "Те места, в которые влюблен.\n",
            "\n",
            "Как там травы пахнут майским медом,\n",
            "Прямо закружилась голова...\n",
            "И сирень бушует цветом, словно,\n",
            "Радуясь, что матушка жива.\n",
            "\n",
            "Скоро десять лет, как не со мною\n",
            "Матушка любимая моя...\n",
            "Да и я уж с белой головою,\n",
            "Молодость умчалась от меня.\n",
            "\n",
            "Выросли уж дети... Даже внуки\n",
            "Есть теперь, что радуют меня...\n",
            "Только сердце корчится от муки,\n",
            "Как услышу клекот журавля.\n",
            "\n",
            "Так сожмется сердце и заноет...\n",
            "Прошлого уже не возвратить...\n",
            "Но манит, опять манит дорога,\n",
            "В прошлое связующая нить.\n",
            "\n",
            "Как же много в прошлом я оставил,\n",
            "И придется много оставлять...\n",
            "Журавлей вожак свой клин направил\n",
            "В прошлое, где дом, отец и мать.\n",
            "\n",
            "Жанр:  Лирика\n",
            "Рейтинг:  7\n",
            "Предсказанный рейтинг без знания жанра:  9\n",
            "Предсказанный рейтинг со знанием жанра:  7\n"
          ]
        }
      ],
      "source": [
        "text = df_test['output_text'].values[2]\n",
        "print(text)\n",
        "print()\n",
        "print('Жанр: ', df_test['genre'].values[2])\n",
        "print('Рейтинг: ', df_test['rating'].values[2])\n",
        "print('Предсказанный рейтинг без знания жанра: ', rating_predict(model, text, genre='Unknown'))\n",
        "print('Предсказанный рейтинг со знанием жанра: ', rating_predict(model, text, genre='Лирика'))"
      ]
    },
    {
      "cell_type": "markdown",
      "id": "b0ca44c1-87fb-454f-8ee3-ed93eec894a7",
      "metadata": {
        "id": "b0ca44c1-87fb-454f-8ee3-ed93eec894a7"
      },
      "source": [
        "## Результаты:\n",
        "\n",
        "- Лучший результат по \"Spearman's rank correlation\" получился 0.62 при использовании всех доступных нам данных и реализованных методах: преобразование целевой переменной \"log(rating + 1)\", взвешивание примеров по \"log(views)\" и добавление в начало текста \"genre\"\n",
        "- Я в ручную проверил пару примеров и убедился, что система действительно работает верно, как и ожидалось"
      ]
    },
    {
      "cell_type": "markdown",
      "id": "78086923-a4b3-4a7f-b289-4209cfe13c7f",
      "metadata": {
        "id": "78086923-a4b3-4a7f-b289-4209cfe13c7f"
      },
      "source": [
        "## Работы на будущее\n",
        "\n",
        "\n",
        "### Улучшение модели\n",
        "\n",
        "- При обучении больше чем на 3 эпохах модель переобучается, возможно стоит расмотреть эксперименты по увеличению Dropout в модели, добавлению weight_decay или парсингу большего числа данных\n",
        "- Считаю что взвешивание примеров с помощью \"log(views)\" не до конца иследовано в текущей работе, стоит провести больше экспериментов с разными типами преобразований \"views\" для взвешивания, возможно стоит уйти в полную фильтрацию примеров с слишком низким \"views\" или в совокопности с другими параметрами\n",
        "- Как говорилось в работе, обучение своей модели на каждый жанр (или может на топ-3 жанра) должно наиболее вероятно поднять метрики\n",
        "- Стоит посмотреть, можем ли мы ещё добавить мета-данных по \"url\" примеров, проверить помогут ли они\n",
        "- Как и в любой задаче никогда не будет лишним проверить обучить тем же пайплайном несколько других предобученных моделей, например e5-base или даже e5-large\n",
        "- Предупреждаю и выражаю скептис в отношении экспериментов по использованию готовых LLM в данной задачи как конечного решения, так как: у нас есть очень много данных на которых можно обучить хорошую модель (а не несколько примеров для few shot); даже если LLM будет справляться с задачей ранжирования, то кажется у неё явно будут проблемы со скоринговым режимом из-за принципа работы LLM; решение с LLM будет максимально не эффектиным с точки зрения затрачиваемых ресурсов, если такое решение в итоге не дистилировать, но это делает разработку ещё дольше\n",
        "- Возможно стоит рассмотреть мягкую фильтрацию всех примеров с помощью LLM, как минимум с проверкой на выбросы: оцениваем все примеры от 0 до 10, смотрим на примеры где LLM поставила 0, а в данных rating > 20 например, и если на наш взгляд они нам тоже не нравятся, то пробуем обучаться и расчитывать метрики без таких примеров\n",
        "\n",
        "### Доступ к модели\n",
        "\n",
        "- Необходимо будет реализовать доступ к модели. Выбор стоит между API и Тг-ботом. API проще поднять с помощью FastAPI, но это менее нативный способ взаимодействия, поэтому думаю в любом случае нужно будет постараться и поднять простой Тг-бот \"Poetry ranker\"\n",
        "- Основные функции:\n",
        "- 1). Ввод: любой текст. Вывод: рейтинг. (режим скоринга)\n",
        "- 2). Ввод: файл с текстами. Вывод: файл с отсортированными текстами. (режим ранкера)\n",
        "- Темы указываются в заголовках текстов\n",
        "- Учесть разные неверные сценарии использования\n",
        "- Добавить кеширование Redis\n",
        "- Дать доступ к весам модели\n",
        "- Оформить репозиторий с докер-образом всего сервиса, чтобы любой мог его поднять локально"
      ]
    }
  ],
  "metadata": {
    "kernelspec": {
      "display_name": "Python 3 (ipykernel)",
      "language": "python",
      "name": "python3"
    },
    "language_info": {
      "codemirror_mode": {
        "name": "ipython",
        "version": 3
      },
      "file_extension": ".py",
      "mimetype": "text/x-python",
      "name": "python",
      "nbconvert_exporter": "python",
      "pygments_lexer": "ipython3",
      "version": "3.9.13"
    },
    "colab": {
      "provenance": []
    }
  },
  "nbformat": 4,
  "nbformat_minor": 5
}